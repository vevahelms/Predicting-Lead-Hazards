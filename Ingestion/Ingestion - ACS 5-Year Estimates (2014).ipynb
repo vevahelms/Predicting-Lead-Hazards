{
 "cells": [
  {
   "cell_type": "markdown",
   "metadata": {},
   "source": [
    "## *Veronica Helms*\n",
    "#### Date: December 3rd, 2016\n",
    "#### Program Functions: Ingest ACS Data"
   ]
  },
  {
   "cell_type": "markdown",
   "metadata": {},
   "source": [
    "*ACS Description (Directly from ACS API Website)*\n",
    "- \"The American Community Survey (ACS) is a nationwide survey designed to provide communities a fresh look at how they are changing. The ACS replaced the decennial census long form in 2010 and thereafter by collecting long form type information throughout the decade rather than only once every 10 years. Questionnaires are mailed to a sample of addresses to obtain information about households -- that is, about each person and the housing unit itself. The American Community Survey produces demographic, social, housing and economic estimates in the form of 1-year, 3-year and 5-year estimates based on population thresholds. The strength of the ACS is in estimating population and housing characteristics. It produces estimates for small areas, including census tracts and population subgroups. Although the ACS produces population, demographic and housing unit estimates,it is the Census Bureau's Population Estimates Program that produces and disseminates the official estimates of the population for the nation, states, counties, cities and towns, and estimates of housing units for states and counties.  For 2010 and other decennial census years, the Decennial Census provides the official counts of population and housing units.\" "
   ]
  },
  {
   "cell_type": "markdown",
   "metadata": {},
   "source": [
    "*Specify ACS Variables that will be pulled*:\n",
    "- population  = *B01003_001E*\n",
    "- median househould income = *B19013_001E*\n",
    "- median gross rent = *B25064_001E*\n",
    "- median monthly mortgage cost of those with a mortage = *25088_002E*\n",
    "- median age of males = *B01002_002E*\n",
    "- median age of females  = *B01002_003E* \n",
    "- Below 100 percent of the poverty level = *B07012_002E*"
   ]
  },
  {
   "cell_type": "markdown",
   "metadata": {},
   "source": [
    "**1. Ingest ACS Data**"
   ]
  },
  {
   "cell_type": "code",
   "execution_count": 83,
   "metadata": {
    "collapsed": true
   },
   "outputs": [],
   "source": [
    "# Import Dependencies #\n",
    "import os\n",
    "import requests"
   ]
  },
  {
   "cell_type": "code",
   "execution_count": 84,
   "metadata": {
    "collapsed": true
   },
   "outputs": [],
   "source": [
    "# Create Data Frames # \n",
    "censusKey=\"683a4bd2b0db3ca927d4fe5dd14df9275be4cb7c\"\n",
    "varlist=\"NAME,B01003_001E,B19013_001E,B25064_001E,B07012_002E,B25088_002E,B01002_002E,B01002_003E\"\n",
    "year = [\"2014\"] "
   ]
  },
  {
   "cell_type": "code",
   "execution_count": 85,
   "metadata": {
    "collapsed": true
   },
   "outputs": [],
   "source": [
    "def api_download(year):\n",
    "\n",
    "    path_year = os.path.join(os.getcwd(),\"ACS\", year)\n",
    "    file_name = path_year + \"/\" + \"ACS\" + year + \".txt\"\n",
    "    url=\"http://api.census.gov/data/\"+year+\"/acs5?get=\"+varlist+\"&for=county:*&key=\"+censusKey\n",
    "    \n",
    "    if not os.path.exists(path_year):\n",
    "        os.makedirs(path_year)\n",
    "\n",
    "    else:\n",
    "        census_data = requests.get(url)\n",
    "        f = open(file_name, \"w\")\n",
    "        f.write(census_data.text.encode('utf-8'))\n",
    "        f.close()\n",
    "\n",
    "def main():\n",
    "    \"\"\"\n",
    "    Main execution\n",
    "    \"\"\"\n",
    "    for year in years:\n",
    "        api_download(year)\n",
    "\n",
    "if __name__ == '__main__':\n",
    "    main()"
   ]
  },
  {
   "cell_type": "code",
   "execution_count": 86,
   "metadata": {
    "collapsed": false
   },
   "outputs": [],
   "source": [
    "import pandas as pd\n",
    "import os \n",
    "import csv\n",
    "import xlrd\n",
    "\n",
    "filepath = os.path.join(os.getcwd(),\"ACS\", \"2014\", \"ACS2014.txt\")\n",
    "df= pd.read_csv(filepath)"
   ]
  },
  {
   "cell_type": "code",
   "execution_count": 87,
   "metadata": {
    "collapsed": false
   },
   "outputs": [
    {
     "data": {
      "text/plain": [
       "['[[\"NAME\"',\n",
       " 'B01003_001E',\n",
       " 'B19013_001E',\n",
       " 'B25064_001E',\n",
       " 'B07012_002E',\n",
       " 'B25088_002E',\n",
       " 'B01002_002E',\n",
       " 'B01002_003E',\n",
       " 'state',\n",
       " 'county]',\n",
       " 'Unnamed: 10']"
      ]
     },
     "execution_count": 87,
     "metadata": {},
     "output_type": "execute_result"
    }
   ],
   "source": [
    "list(df.columns.values)"
   ]
  }
 ],
 "metadata": {
  "kernelspec": {
   "display_name": "Python 2",
   "language": "python",
   "name": "python2"
  },
  "language_info": {
   "codemirror_mode": {
    "name": "ipython",
    "version": 2
   },
   "file_extension": ".py",
   "mimetype": "text/x-python",
   "name": "python",
   "nbconvert_exporter": "python",
   "pygments_lexer": "ipython2",
   "version": "2.7.11"
  }
 },
 "nbformat": 4,
 "nbformat_minor": 0
}
