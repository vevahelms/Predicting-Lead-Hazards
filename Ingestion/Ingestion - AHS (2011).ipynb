{
 "cells": [
  {
   "cell_type": "markdown",
   "metadata": {},
   "source": [
    "### *(c) Veronica Helms*\n",
    "#### Date: December 2016\n",
    "#### Program Functions: Ingest AHS Data"
   ]
  },
  {
   "cell_type": "markdown",
   "metadata": {},
   "source": [
    "*AHS Description: http://www.census.gov/programs-surveys/ahs/data/2011/ahs-national-and-metropolitan-puf-microdata.html"
   ]
  },
  {
   "cell_type": "markdown",
   "metadata": {},
   "source": [
    "*Specify AHS Variables pulled by RELATIONAL TABLE:*\n",
    "- TABLE: tTypec\n",
    "  - COUNTY\n",
    "- TABLE: tNewHouse\n",
    "  - BIGP\n",
    "  - BUILD"
   ]
  },
  {
   "cell_type": "code",
   "execution_count": 66,
   "metadata": {
    "collapsed": true
   },
   "outputs": [],
   "source": [
    "# Import Dependencies #\n",
    "import openpyxl\n",
    "import pandas as pd\n",
    "import os \n",
    "import csv"
   ]
  },
  {
   "cell_type": "code",
   "execution_count": 38,
   "metadata": {
    "collapsed": false,
    "scrolled": true
   },
   "outputs": [
    {
     "name": "stdout",
     "output_type": "stream",
     "text": [
      "/Users/veronicahelms/Desktop/Untitled Folder/AHS/tTypec.csv\n"
     ]
    }
   ],
   "source": [
    "# Pull in Relational Table: tTypec #\n",
    "df_type = os.path.join(os.getcwd(),'/Users/veronicahelms/Desktop/Untitled Folder/AHS/tTypec.csv')\n",
    "print df_type"
   ]
  },
  {
   "cell_type": "code",
   "execution_count": 64,
   "metadata": {
    "collapsed": false
   },
   "outputs": [
    {
     "data": {
      "text/plain": [
       "['CONTROL',\n",
       " 'NOINT',\n",
       " 'YRINTRO',\n",
       " 'NATLFLAG',\n",
       " 'BUILT',\n",
       " 'PWT',\n",
       " 'YRTYPEC',\n",
       " 'CONTROLM',\n",
       " 'OLDMSFLG',\n",
       " 'SMSA']"
      ]
     },
     "execution_count": 64,
     "metadata": {},
     "output_type": "execute_result"
    }
   ],
   "source": [
    "data_csv_type = pd.read_csv(df_type, index_col=None)\n",
    "list(data_csv_type.columns.values)"
   ]
  },
  {
   "cell_type": "code",
   "execution_count": 65,
   "metadata": {
    "collapsed": false
   },
   "outputs": [
    {
     "data": {
      "text/html": [
       "<div>\n",
       "<table border=\"1\" class=\"dataframe\">\n",
       "  <thead>\n",
       "    <tr style=\"text-align: right;\">\n",
       "      <th></th>\n",
       "      <th>CONTROL</th>\n",
       "      <th>NOINT</th>\n",
       "      <th>YRINTRO</th>\n",
       "      <th>NATLFLAG</th>\n",
       "      <th>BUILT</th>\n",
       "      <th>PWT</th>\n",
       "      <th>YRTYPEC</th>\n",
       "      <th>CONTROLM</th>\n",
       "      <th>OLDMSFLG</th>\n",
       "      <th>SMSA</th>\n",
       "    </tr>\n",
       "  </thead>\n",
       "  <tbody>\n",
       "    <tr>\n",
       "      <th>0</th>\n",
       "      <td>'052000000001'</td>\n",
       "      <td>37</td>\n",
       "      <td>'1996'</td>\n",
       "      <td>'2'</td>\n",
       "      <td>-6</td>\n",
       "      <td>483.9699</td>\n",
       "      <td>'1996'</td>\n",
       "      <td>'000000000001'</td>\n",
       "      <td>'-6'</td>\n",
       "      <td>'0520'</td>\n",
       "    </tr>\n",
       "    <tr>\n",
       "      <th>1</th>\n",
       "      <td>'052000000003'</td>\n",
       "      <td>37</td>\n",
       "      <td>'1996'</td>\n",
       "      <td>'2'</td>\n",
       "      <td>-6</td>\n",
       "      <td>483.9699</td>\n",
       "      <td>'1996'</td>\n",
       "      <td>'000000000003'</td>\n",
       "      <td>'-6'</td>\n",
       "      <td>'0520'</td>\n",
       "    </tr>\n",
       "    <tr>\n",
       "      <th>2</th>\n",
       "      <td>'052000000007'</td>\n",
       "      <td>37</td>\n",
       "      <td>'1996'</td>\n",
       "      <td>'2'</td>\n",
       "      <td>-6</td>\n",
       "      <td>483.9699</td>\n",
       "      <td>'1996'</td>\n",
       "      <td>'000000000007'</td>\n",
       "      <td>'-6'</td>\n",
       "      <td>'0520'</td>\n",
       "    </tr>\n",
       "    <tr>\n",
       "      <th>3</th>\n",
       "      <td>'052000000012'</td>\n",
       "      <td>41</td>\n",
       "      <td>'1996'</td>\n",
       "      <td>'2'</td>\n",
       "      <td>1990</td>\n",
       "      <td>483.9699</td>\n",
       "      <td>'2007'</td>\n",
       "      <td>'000000000012'</td>\n",
       "      <td>'-6'</td>\n",
       "      <td>'0520'</td>\n",
       "    </tr>\n",
       "    <tr>\n",
       "      <th>4</th>\n",
       "      <td>'052000000014'</td>\n",
       "      <td>41</td>\n",
       "      <td>'1996'</td>\n",
       "      <td>'2'</td>\n",
       "      <td>1996</td>\n",
       "      <td>483.9699</td>\n",
       "      <td>'2011'</td>\n",
       "      <td>'000000000014'</td>\n",
       "      <td>'-6'</td>\n",
       "      <td>'0520'</td>\n",
       "    </tr>\n",
       "  </tbody>\n",
       "</table>\n",
       "</div>"
      ],
      "text/plain": [
       "          CONTROL  NOINT YRINTRO NATLFLAG  BUILT       PWT YRTYPEC  \\\n",
       "0  '052000000001'     37  '1996'      '2'     -6  483.9699  '1996'   \n",
       "1  '052000000003'     37  '1996'      '2'     -6  483.9699  '1996'   \n",
       "2  '052000000007'     37  '1996'      '2'     -6  483.9699  '1996'   \n",
       "3  '052000000012'     41  '1996'      '2'   1990  483.9699  '2007'   \n",
       "4  '052000000014'     41  '1996'      '2'   1996  483.9699  '2011'   \n",
       "\n",
       "         CONTROLM OLDMSFLG    SMSA  \n",
       "0  '000000000001'     '-6'  '0520'  \n",
       "1  '000000000003'     '-6'  '0520'  \n",
       "2  '000000000007'     '-6'  '0520'  \n",
       "3  '000000000012'     '-6'  '0520'  \n",
       "4  '000000000014'     '-6'  '0520'  "
      ]
     },
     "execution_count": 65,
     "metadata": {},
     "output_type": "execute_result"
    }
   ],
   "source": [
    "#data_csv_type [['BUILT','CONTROL','CONTROLM']]\n",
    "data_csv_type.head(5)"
   ]
  },
  {
   "cell_type": "code",
   "execution_count": 41,
   "metadata": {
    "collapsed": false
   },
   "outputs": [
    {
     "name": "stdout",
     "output_type": "stream",
     "text": [
      "/Users/veronicahelms/Desktop/Untitled Folder/AHS/tnewhouse.csv\n"
     ]
    }
   ],
   "source": [
    "# Pull in Relational Table: tNewHouse #\n",
    "df_newhouse = os.path.join(os.getcwd(),'/Users/veronicahelms/Desktop/Untitled Folder/AHS/tnewhouse.csv')\n",
    "print df_newhouse"
   ]
  },
  {
   "cell_type": "code",
   "execution_count": 71,
   "metadata": {
    "collapsed": false
   },
   "outputs": [
    {
     "data": {
      "text/html": [
       "<div>\n",
       "<table border=\"1\" class=\"dataframe\">\n",
       "  <thead>\n",
       "    <tr style=\"text-align: right;\">\n",
       "      <th></th>\n",
       "      <th>CONTROL</th>\n",
       "      <th>DEGREE</th>\n",
       "      <th>METRO3</th>\n",
       "      <th>REGION</th>\n",
       "      <th>SMSA</th>\n",
       "      <th>LMED</th>\n",
       "      <th>LMEDA</th>\n",
       "      <th>LMEDB</th>\n",
       "      <th>FMR</th>\n",
       "      <th>FMRA</th>\n",
       "      <th>...</th>\n",
       "      <th>HUDADMIN</th>\n",
       "      <th>HUDSAMP</th>\n",
       "      <th>ISTATUS</th>\n",
       "      <th>AMTI</th>\n",
       "      <th>CAMF</th>\n",
       "      <th>FLRENT</th>\n",
       "      <th>FMHOTF</th>\n",
       "      <th>LRENT</th>\n",
       "      <th>MHOTFE</th>\n",
       "      <th>JBILLW</th>\n",
       "    </tr>\n",
       "  </thead>\n",
       "  <tbody>\n",
       "    <tr>\n",
       "      <th>0</th>\n",
       "      <td>'036000001146'</td>\n",
       "      <td>'4'</td>\n",
       "      <td>'2'</td>\n",
       "      <td>'4'</td>\n",
       "      <td>'0360'</td>\n",
       "      <td>84200</td>\n",
       "      <td>84200</td>\n",
       "      <td>84200</td>\n",
       "      <td>2580</td>\n",
       "      <td>2580</td>\n",
       "      <td>...</td>\n",
       "      <td>'-6'</td>\n",
       "      <td>'2'</td>\n",
       "      <td>'1'</td>\n",
       "      <td>1600</td>\n",
       "      <td>12</td>\n",
       "      <td>-6</td>\n",
       "      <td>-6</td>\n",
       "      <td>-6</td>\n",
       "      <td>-6</td>\n",
       "      <td>'1'</td>\n",
       "    </tr>\n",
       "    <tr>\n",
       "      <th>1</th>\n",
       "      <td>'036000001147'</td>\n",
       "      <td>'4'</td>\n",
       "      <td>'2'</td>\n",
       "      <td>'4'</td>\n",
       "      <td>'0360'</td>\n",
       "      <td>84200</td>\n",
       "      <td>84200</td>\n",
       "      <td>84200</td>\n",
       "      <td>2241</td>\n",
       "      <td>2241</td>\n",
       "      <td>...</td>\n",
       "      <td>'-6'</td>\n",
       "      <td>'2'</td>\n",
       "      <td>'1'</td>\n",
       "      <td>1650</td>\n",
       "      <td>12</td>\n",
       "      <td>-6</td>\n",
       "      <td>-6</td>\n",
       "      <td>-6</td>\n",
       "      <td>-6</td>\n",
       "      <td>'1'</td>\n",
       "    </tr>\n",
       "    <tr>\n",
       "      <th>2</th>\n",
       "      <td>'036000001148'</td>\n",
       "      <td>'4'</td>\n",
       "      <td>'2'</td>\n",
       "      <td>'4'</td>\n",
       "      <td>'0360'</td>\n",
       "      <td>84200</td>\n",
       "      <td>84200</td>\n",
       "      <td>84200</td>\n",
       "      <td>1327</td>\n",
       "      <td>1327</td>\n",
       "      <td>...</td>\n",
       "      <td>'4'</td>\n",
       "      <td>'2'</td>\n",
       "      <td>'4'</td>\n",
       "      <td>-6</td>\n",
       "      <td>-6</td>\n",
       "      <td>-6</td>\n",
       "      <td>-6</td>\n",
       "      <td>-6</td>\n",
       "      <td>-6</td>\n",
       "      <td>'-9'</td>\n",
       "    </tr>\n",
       "    <tr>\n",
       "      <th>3</th>\n",
       "      <td>'036000001149'</td>\n",
       "      <td>'4'</td>\n",
       "      <td>'2'</td>\n",
       "      <td>'4'</td>\n",
       "      <td>'0360'</td>\n",
       "      <td>84200</td>\n",
       "      <td>84200</td>\n",
       "      <td>84200</td>\n",
       "      <td>2577</td>\n",
       "      <td>2577</td>\n",
       "      <td>...</td>\n",
       "      <td>'-6'</td>\n",
       "      <td>'2'</td>\n",
       "      <td>'1'</td>\n",
       "      <td>2160</td>\n",
       "      <td>-7</td>\n",
       "      <td>-6</td>\n",
       "      <td>-6</td>\n",
       "      <td>-6</td>\n",
       "      <td>-6</td>\n",
       "      <td>'1'</td>\n",
       "    </tr>\n",
       "    <tr>\n",
       "      <th>4</th>\n",
       "      <td>'036000001150'</td>\n",
       "      <td>'4'</td>\n",
       "      <td>'2'</td>\n",
       "      <td>'4'</td>\n",
       "      <td>'0360'</td>\n",
       "      <td>84200</td>\n",
       "      <td>84200</td>\n",
       "      <td>84200</td>\n",
       "      <td>2241</td>\n",
       "      <td>2241</td>\n",
       "      <td>...</td>\n",
       "      <td>'-6'</td>\n",
       "      <td>'2'</td>\n",
       "      <td>'1'</td>\n",
       "      <td>900</td>\n",
       "      <td>12</td>\n",
       "      <td>-6</td>\n",
       "      <td>-6</td>\n",
       "      <td>-6</td>\n",
       "      <td>-6</td>\n",
       "      <td>'1'</td>\n",
       "    </tr>\n",
       "  </tbody>\n",
       "</table>\n",
       "<p>5 rows × 909 columns</p>\n",
       "</div>"
      ],
      "text/plain": [
       "          CONTROL DEGREE METRO3 REGION    SMSA   LMED  LMEDA  LMEDB   FMR  \\\n",
       "0  '036000001146'    '4'    '2'    '4'  '0360'  84200  84200  84200  2580   \n",
       "1  '036000001147'    '4'    '2'    '4'  '0360'  84200  84200  84200  2241   \n",
       "2  '036000001148'    '4'    '2'    '4'  '0360'  84200  84200  84200  1327   \n",
       "3  '036000001149'    '4'    '2'    '4'  '0360'  84200  84200  84200  2577   \n",
       "4  '036000001150'    '4'    '2'    '4'  '0360'  84200  84200  84200  2241   \n",
       "\n",
       "   FMRA   ...    HUDADMIN  HUDSAMP  ISTATUS  AMTI  CAMF  FLRENT  FMHOTF  \\\n",
       "0  2580   ...        '-6'      '2'      '1'  1600    12      -6      -6   \n",
       "1  2241   ...        '-6'      '2'      '1'  1650    12      -6      -6   \n",
       "2  1327   ...         '4'      '2'      '4'    -6    -6      -6      -6   \n",
       "3  2577   ...        '-6'      '2'      '1'  2160    -7      -6      -6   \n",
       "4  2241   ...        '-6'      '2'      '1'   900    12      -6      -6   \n",
       "\n",
       "   LRENT  MHOTFE  JBILLW  \n",
       "0     -6      -6     '1'  \n",
       "1     -6      -6     '1'  \n",
       "2     -6      -6    '-9'  \n",
       "3     -6      -6     '1'  \n",
       "4     -6      -6     '1'  \n",
       "\n",
       "[5 rows x 909 columns]"
      ]
     },
     "execution_count": 71,
     "metadata": {},
     "output_type": "execute_result"
    }
   ],
   "source": [
    "data_csv_newhouse = pd.read_csv(df_newhouse, index_col=None)\n",
    "list(data_csv_newhouse.columns.values)\n",
    "data_csv_newhouse.head(5)"
   ]
  }
 ],
 "metadata": {
  "kernelspec": {
   "display_name": "Python 2",
   "language": "python",
   "name": "python2"
  },
  "language_info": {
   "codemirror_mode": {
    "name": "ipython",
    "version": 2
   },
   "file_extension": ".py",
   "mimetype": "text/x-python",
   "name": "python",
   "nbconvert_exporter": "python",
   "pygments_lexer": "ipython2",
   "version": "2.7.11"
  }
 },
 "nbformat": 4,
 "nbformat_minor": 0
}
